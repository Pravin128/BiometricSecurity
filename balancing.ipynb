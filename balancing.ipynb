{
 "cells": [
  {
   "cell_type": "code",
   "execution_count": 1,
   "metadata": {},
   "outputs": [],
   "source": [
    "import os\n",
    "import random\n",
    "import shutil\n",
    "\n",
    "from pathlib import Path\n"
   ]
  },
  {
   "cell_type": "code",
   "execution_count": 8,
   "metadata": {},
   "outputs": [],
   "source": [
    "original_root = \"dataset\"\n",
    "balanced_root = \"balanced_dataset\"\n",
    "os.makedirs(balanced_root, exist_ok=True)"
   ]
  },
  {
   "cell_type": "code",
   "execution_count": 9,
   "metadata": {},
   "outputs": [],
   "source": [
    "class_folders = {\n",
    "    'Real': 'Real',\n",
    "    'Altered-Easy': 'Altered-Easy',\n",
    "    'Altered-Medium': 'Altered-Medium',\n",
    "    'Altered-Hard': 'Altered-Hard'\n",
    "}\n"
   ]
  },
  {
   "cell_type": "code",
   "execution_count": 10,
   "metadata": {},
   "outputs": [],
   "source": [
    "class_counts = {}\n",
    "for label, folder in class_folders.items():\n",
    "    path = os.path.join(original_root, folder)\n",
    "    images = [img for img in os.listdir(path) if img.endswith('.bmp')]\n",
    "    class_counts[label] = len(images)"
   ]
  },
  {
   "cell_type": "code",
   "execution_count": 11,
   "metadata": {},
   "outputs": [
    {
     "name": "stdout",
     "output_type": "stream",
     "text": [
      "🔢 Target samples per class = 0\n"
     ]
    }
   ],
   "source": [
    "target_samples = min(class_counts.values())\n",
    "print(f\"🔢 Target samples per class = {target_samples}\")"
   ]
  },
  {
   "cell_type": "code",
   "execution_count": 12,
   "metadata": {},
   "outputs": [
    {
     "name": "stdout",
     "output_type": "stream",
     "text": [
      "[Real] Total Images: 0\n",
      "[Altered-Easy] Total Images: 0\n",
      "[Altered-Medium] Total Images: 0\n",
      "[Altered-Hard] Total Images: 0\n",
      "✅ Dataset successfully balanced and saved in 'balanced_dataset/'\n"
     ]
    }
   ],
   "source": [
    "for label, folder in class_folders.items():\n",
    "    src_folder = os.path.join(original_root, folder)\n",
    "    dst_folder = os.path.join(balanced_root, folder)\n",
    "    os.makedirs(dst_folder, exist_ok=True)\n",
    "\n",
    "    all_images = [img for img in os.listdir(src_folder) if img.endswith('.bmp')]\n",
    "    print(f\"[{label}] Total Images: {len(all_images)}\")\n",
    "\n",
    "    # Sample min number of images\n",
    "    selected_images = random.sample(all_images, target_samples)\n",
    "\n",
    "    # Copy to new balanced dataset\n",
    "    for img in selected_images:\n",
    "        shutil.copy2(os.path.join(src_folder, img), os.path.join(dst_folder, img))\n",
    "\n",
    "print(\"✅ Dataset successfully balanced and saved in 'balanced_dataset/'\")"
   ]
  }
 ],
 "metadata": {
  "kernelspec": {
   "display_name": "Python 3",
   "language": "python",
   "name": "python3"
  },
  "language_info": {
   "codemirror_mode": {
    "name": "ipython",
    "version": 3
   },
   "file_extension": ".py",
   "mimetype": "text/x-python",
   "name": "python",
   "nbconvert_exporter": "python",
   "pygments_lexer": "ipython3",
   "version": "3.12.9"
  }
 },
 "nbformat": 4,
 "nbformat_minor": 2
}

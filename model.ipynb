{
 "cells": [
  {
   "cell_type": "code",
   "execution_count": 36,
   "id": "5fc5be79",
   "metadata": {},
   "outputs": [],
   "source": [
    "import torch\n",
    "import torch.nn as nn\n",
    "from torchvision import transforms\n",
    "from PIL import Image\n",
    "import os\n",
    "import torch.nn.functional as F\n"
   ]
  },
  {
   "cell_type": "code",
   "execution_count": 37,
   "id": "decd4714",
   "metadata": {},
   "outputs": [],
   "source": [
    "# ✅ Set device\n",
    "DEVICE = torch.device(\"cuda\" if torch.cuda.is_available() else \"cpu\")\n"
   ]
  },
  {
   "cell_type": "code",
   "execution_count": 38,
   "id": "7368bf83",
   "metadata": {},
   "outputs": [
    {
     "name": "stdout",
     "output_type": "stream",
     "text": [
      "✅ Model loaded successfully!\n"
     ]
    }
   ],
   "source": [
    "# ✅ Correct CNN model architecture matching your trained model\n",
    "class CNNModel(nn.Module):\n",
    "    def __init__(self):\n",
    "        super(CNNModel, self).__init__()\n",
    "        self.net = nn.Sequential(\n",
    "            nn.Conv2d(1, 32, kernel_size=3, padding=1),  # Output: 32x128x128\n",
    "            nn.ReLU(),\n",
    "            nn.MaxPool2d(2),                             # 32x64x64\n",
    "\n",
    "            nn.Conv2d(32, 64, kernel_size=3, padding=1), # 64x64x64\n",
    "            nn.ReLU(),\n",
    "            nn.MaxPool2d(2),                             # 64x32x32\n",
    "\n",
    "            nn.Conv2d(64, 128, kernel_size=3, padding=1),# 128x32x32\n",
    "            nn.ReLU(),\n",
    "            nn.MaxPool2d(2),                             # 128x16x16\n",
    "\n",
    "            nn.Flatten(),                                # 128*16*16 = 32768\n",
    "            nn.Linear(128 * 16 * 16, 256),\n",
    "            nn.ReLU(),\n",
    "            nn.Dropout(0.3),\n",
    "            nn.Linear(256, 4)\n",
    "        )\n",
    "\n",
    "    def forward(self, x):\n",
    "        return self.net(x)\n",
    "\n",
    "# ✅ Load the model\n",
    "model = CNNModel().to(DEVICE)\n",
    "model.load_state_dict(torch.load(\"fingerprint_cnn_with_val.pth\", map_location=DEVICE))\n",
    "model.eval()\n",
    "print(\"✅ Model loaded successfully!\")"
   ]
  },
  {
   "cell_type": "code",
   "execution_count": 39,
   "id": "baf1aee4",
   "metadata": {},
   "outputs": [],
   "source": [
    "# ✅ Class labels\n",
    "class_names = ['Real', 'Altered-Easy', 'Altered-Medium', 'Altered-Hard']"
   ]
  },
  {
   "cell_type": "code",
   "execution_count": 40,
   "id": "cdeafb3f",
   "metadata": {},
   "outputs": [],
   "source": [
    "# 🔄 Transformations (same as training)\n",
    "transform = transforms.Compose([\n",
    "    transforms.Grayscale(num_output_channels=1),\n",
    "    transforms.Resize((128, 128)),\n",
    "    transforms.ToTensor(),\n",
    "    transforms.Normalize([0.5], [0.5])\n",
    "])\n",
    "\n"
   ]
  },
  {
   "cell_type": "code",
   "execution_count": 41,
   "id": "8692bac6",
   "metadata": {},
   "outputs": [],
   "source": [
    "# 🔍 Prediction function\n",
    "def predict_bmp_image(image_path):\n",
    "    image = Image.open(image_path).convert(\"L\")\n",
    "    image = transform(image).unsqueeze(0).to(DEVICE)\n",
    "\n",
    "    with torch.no_grad():\n",
    "        output = model(image)\n",
    "        probs = F.softmax(output, dim=1)\n",
    "        pred_idx = torch.argmax(probs, dim=1).item()\n",
    "        predicted_class = class_names[pred_idx]\n",
    "        confidence = probs[0][pred_idx].item()\n",
    "\n",
    "    print(f\"🖼️ Image: {os.path.basename(image_path)} ➜ Predicted: {predicted_class} ({confidence * 100:.2f}%)\")\n",
    "    return predicted_class, confidence"
   ]
  },
  {
   "cell_type": "code",
   "execution_count": null,
   "id": "fc62083d",
   "metadata": {},
   "outputs": [],
   "source": []
  },
  {
   "cell_type": "code",
   "execution_count": 42,
   "id": "0e138d9f",
   "metadata": {},
   "outputs": [
    {
     "name": "stdout",
     "output_type": "stream",
     "text": [
      "🖼️ Image: 1__M_Left_little_finger.BMP ➜ Predicted: Altered-Hard (100.00%)\n"
     ]
    },
    {
     "data": {
      "text/plain": [
       "('Altered-Hard', 0.9999686479568481)"
      ]
     },
     "execution_count": 42,
     "metadata": {},
     "output_type": "execute_result"
    }
   ],
   "source": [
    "test_image_path = r\"E:\\Biometrics\\balanced_dataset\\Real\\1__M_Left_little_finger.BMP\"\n",
    "predict_bmp_image(test_image_path)"
   ]
  }
 ],
 "metadata": {
  "kernelspec": {
   "display_name": "Python 3",
   "language": "python",
   "name": "python3"
  },
  "language_info": {
   "name": "python",
   "version": "3.12.9"
  }
 },
 "nbformat": 4,
 "nbformat_minor": 5
}
